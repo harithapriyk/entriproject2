{
 "cells": [
  {
   "cell_type": "code",
   "execution_count": 78,
   "id": "b04790b1-85ce-439d-993e-87e6423e2e34",
   "metadata": {},
   "outputs": [],
   "source": [
    "import pandas as pd\n",
    "import numpy as np"
   ]
  },
  {
   "cell_type": "code",
   "execution_count": 79,
   "id": "75b92982-6c11-43da-8946-994631fe3926",
   "metadata": {},
   "outputs": [
    {
     "data": {
      "text/html": [
       "<div>\n",
       "<style scoped>\n",
       "    .dataframe tbody tr th:only-of-type {\n",
       "        vertical-align: middle;\n",
       "    }\n",
       "\n",
       "    .dataframe tbody tr th {\n",
       "        vertical-align: top;\n",
       "    }\n",
       "\n",
       "    .dataframe thead th {\n",
       "        text-align: right;\n",
       "    }\n",
       "</style>\n",
       "<table border=\"1\" class=\"dataframe\">\n",
       "  <thead>\n",
       "    <tr style=\"text-align: right;\">\n",
       "      <th></th>\n",
       "      <th>Name</th>\n",
       "      <th>Team</th>\n",
       "      <th>Number</th>\n",
       "      <th>Position</th>\n",
       "      <th>Age</th>\n",
       "      <th>Height</th>\n",
       "      <th>Weight</th>\n",
       "      <th>College</th>\n",
       "      <th>Salary</th>\n",
       "    </tr>\n",
       "  </thead>\n",
       "  <tbody>\n",
       "    <tr>\n",
       "      <th>0</th>\n",
       "      <td>Avery Bradley</td>\n",
       "      <td>Boston Celtics</td>\n",
       "      <td>0</td>\n",
       "      <td>PG</td>\n",
       "      <td>25</td>\n",
       "      <td>06-Feb</td>\n",
       "      <td>180</td>\n",
       "      <td>Texas</td>\n",
       "      <td>7730337.0</td>\n",
       "    </tr>\n",
       "    <tr>\n",
       "      <th>1</th>\n",
       "      <td>Jae Crowder</td>\n",
       "      <td>Boston Celtics</td>\n",
       "      <td>99</td>\n",
       "      <td>SF</td>\n",
       "      <td>25</td>\n",
       "      <td>06-Jun</td>\n",
       "      <td>235</td>\n",
       "      <td>Marquette</td>\n",
       "      <td>6796117.0</td>\n",
       "    </tr>\n",
       "    <tr>\n",
       "      <th>2</th>\n",
       "      <td>John Holland</td>\n",
       "      <td>Boston Celtics</td>\n",
       "      <td>30</td>\n",
       "      <td>SG</td>\n",
       "      <td>27</td>\n",
       "      <td>06-May</td>\n",
       "      <td>205</td>\n",
       "      <td>Boston University</td>\n",
       "      <td>NaN</td>\n",
       "    </tr>\n",
       "    <tr>\n",
       "      <th>3</th>\n",
       "      <td>R.J. Hunter</td>\n",
       "      <td>Boston Celtics</td>\n",
       "      <td>28</td>\n",
       "      <td>SG</td>\n",
       "      <td>22</td>\n",
       "      <td>06-May</td>\n",
       "      <td>185</td>\n",
       "      <td>Georgia State</td>\n",
       "      <td>1148640.0</td>\n",
       "    </tr>\n",
       "    <tr>\n",
       "      <th>4</th>\n",
       "      <td>Jonas Jerebko</td>\n",
       "      <td>Boston Celtics</td>\n",
       "      <td>8</td>\n",
       "      <td>PF</td>\n",
       "      <td>29</td>\n",
       "      <td>06-Oct</td>\n",
       "      <td>231</td>\n",
       "      <td>NaN</td>\n",
       "      <td>5000000.0</td>\n",
       "    </tr>\n",
       "  </tbody>\n",
       "</table>\n",
       "</div>"
      ],
      "text/plain": [
       "            Name            Team  Number Position  Age  Height  Weight  \\\n",
       "0  Avery Bradley  Boston Celtics       0       PG   25  06-Feb     180   \n",
       "1    Jae Crowder  Boston Celtics      99       SF   25  06-Jun     235   \n",
       "2   John Holland  Boston Celtics      30       SG   27  06-May     205   \n",
       "3    R.J. Hunter  Boston Celtics      28       SG   22  06-May     185   \n",
       "4  Jonas Jerebko  Boston Celtics       8       PF   29  06-Oct     231   \n",
       "\n",
       "             College     Salary  \n",
       "0              Texas  7730337.0  \n",
       "1          Marquette  6796117.0  \n",
       "2  Boston University        NaN  \n",
       "3      Georgia State  1148640.0  \n",
       "4                NaN  5000000.0  "
      ]
     },
     "execution_count": 79,
     "metadata": {},
     "output_type": "execute_result"
    }
   ],
   "source": [
    "df=pd.read_csv('data2.csv')\n",
    "df.head()\n"
   ]
  },
  {
   "cell_type": "markdown",
   "id": "2f9dc1ef-bb8b-4c45-8995-cf739bade849",
   "metadata": {},
   "source": [
    "#### Preprocessing"
   ]
  },
  {
   "cell_type": "code",
   "execution_count": 80,
   "id": "9cd941c6-ee07-44b2-a459-40a528c4818f",
   "metadata": {},
   "outputs": [
    {
     "data": {
      "text/html": [
       "<div>\n",
       "<style scoped>\n",
       "    .dataframe tbody tr th:only-of-type {\n",
       "        vertical-align: middle;\n",
       "    }\n",
       "\n",
       "    .dataframe tbody tr th {\n",
       "        vertical-align: top;\n",
       "    }\n",
       "\n",
       "    .dataframe thead th {\n",
       "        text-align: right;\n",
       "    }\n",
       "</style>\n",
       "<table border=\"1\" class=\"dataframe\">\n",
       "  <thead>\n",
       "    <tr style=\"text-align: right;\">\n",
       "      <th></th>\n",
       "      <th>Name</th>\n",
       "      <th>Team</th>\n",
       "      <th>Number</th>\n",
       "      <th>Position</th>\n",
       "      <th>Age</th>\n",
       "      <th>Height</th>\n",
       "      <th>Weight</th>\n",
       "      <th>College</th>\n",
       "      <th>Salary</th>\n",
       "    </tr>\n",
       "  </thead>\n",
       "  <tbody>\n",
       "    <tr>\n",
       "      <th>count</th>\n",
       "      <td>458</td>\n",
       "      <td>458</td>\n",
       "      <td>458.000000</td>\n",
       "      <td>458</td>\n",
       "      <td>458.000000</td>\n",
       "      <td>458</td>\n",
       "      <td>458.000000</td>\n",
       "      <td>374</td>\n",
       "      <td>4.470000e+02</td>\n",
       "    </tr>\n",
       "    <tr>\n",
       "      <th>unique</th>\n",
       "      <td>458</td>\n",
       "      <td>30</td>\n",
       "      <td>NaN</td>\n",
       "      <td>5</td>\n",
       "      <td>NaN</td>\n",
       "      <td>18</td>\n",
       "      <td>NaN</td>\n",
       "      <td>118</td>\n",
       "      <td>NaN</td>\n",
       "    </tr>\n",
       "    <tr>\n",
       "      <th>top</th>\n",
       "      <td>Avery Bradley</td>\n",
       "      <td>New Orleans Pelicans</td>\n",
       "      <td>NaN</td>\n",
       "      <td>SG</td>\n",
       "      <td>NaN</td>\n",
       "      <td>06-Sep</td>\n",
       "      <td>NaN</td>\n",
       "      <td>Kentucky</td>\n",
       "      <td>NaN</td>\n",
       "    </tr>\n",
       "    <tr>\n",
       "      <th>freq</th>\n",
       "      <td>1</td>\n",
       "      <td>19</td>\n",
       "      <td>NaN</td>\n",
       "      <td>102</td>\n",
       "      <td>NaN</td>\n",
       "      <td>59</td>\n",
       "      <td>NaN</td>\n",
       "      <td>22</td>\n",
       "      <td>NaN</td>\n",
       "    </tr>\n",
       "    <tr>\n",
       "      <th>mean</th>\n",
       "      <td>NaN</td>\n",
       "      <td>NaN</td>\n",
       "      <td>17.713974</td>\n",
       "      <td>NaN</td>\n",
       "      <td>26.934498</td>\n",
       "      <td>NaN</td>\n",
       "      <td>221.543668</td>\n",
       "      <td>NaN</td>\n",
       "      <td>4.833970e+06</td>\n",
       "    </tr>\n",
       "    <tr>\n",
       "      <th>std</th>\n",
       "      <td>NaN</td>\n",
       "      <td>NaN</td>\n",
       "      <td>15.966837</td>\n",
       "      <td>NaN</td>\n",
       "      <td>4.400128</td>\n",
       "      <td>NaN</td>\n",
       "      <td>26.343200</td>\n",
       "      <td>NaN</td>\n",
       "      <td>5.226620e+06</td>\n",
       "    </tr>\n",
       "    <tr>\n",
       "      <th>min</th>\n",
       "      <td>NaN</td>\n",
       "      <td>NaN</td>\n",
       "      <td>0.000000</td>\n",
       "      <td>NaN</td>\n",
       "      <td>19.000000</td>\n",
       "      <td>NaN</td>\n",
       "      <td>161.000000</td>\n",
       "      <td>NaN</td>\n",
       "      <td>3.088800e+04</td>\n",
       "    </tr>\n",
       "    <tr>\n",
       "      <th>25%</th>\n",
       "      <td>NaN</td>\n",
       "      <td>NaN</td>\n",
       "      <td>5.000000</td>\n",
       "      <td>NaN</td>\n",
       "      <td>24.000000</td>\n",
       "      <td>NaN</td>\n",
       "      <td>200.000000</td>\n",
       "      <td>NaN</td>\n",
       "      <td>1.025210e+06</td>\n",
       "    </tr>\n",
       "    <tr>\n",
       "      <th>50%</th>\n",
       "      <td>NaN</td>\n",
       "      <td>NaN</td>\n",
       "      <td>13.000000</td>\n",
       "      <td>NaN</td>\n",
       "      <td>26.000000</td>\n",
       "      <td>NaN</td>\n",
       "      <td>220.000000</td>\n",
       "      <td>NaN</td>\n",
       "      <td>2.836186e+06</td>\n",
       "    </tr>\n",
       "    <tr>\n",
       "      <th>75%</th>\n",
       "      <td>NaN</td>\n",
       "      <td>NaN</td>\n",
       "      <td>25.000000</td>\n",
       "      <td>NaN</td>\n",
       "      <td>30.000000</td>\n",
       "      <td>NaN</td>\n",
       "      <td>240.000000</td>\n",
       "      <td>NaN</td>\n",
       "      <td>6.500000e+06</td>\n",
       "    </tr>\n",
       "    <tr>\n",
       "      <th>max</th>\n",
       "      <td>NaN</td>\n",
       "      <td>NaN</td>\n",
       "      <td>99.000000</td>\n",
       "      <td>NaN</td>\n",
       "      <td>40.000000</td>\n",
       "      <td>NaN</td>\n",
       "      <td>307.000000</td>\n",
       "      <td>NaN</td>\n",
       "      <td>2.500000e+07</td>\n",
       "    </tr>\n",
       "  </tbody>\n",
       "</table>\n",
       "</div>"
      ],
      "text/plain": [
       "                 Name                  Team      Number Position         Age  \\\n",
       "count             458                   458  458.000000      458  458.000000   \n",
       "unique            458                    30         NaN        5         NaN   \n",
       "top     Avery Bradley  New Orleans Pelicans         NaN       SG         NaN   \n",
       "freq                1                    19         NaN      102         NaN   \n",
       "mean              NaN                   NaN   17.713974      NaN   26.934498   \n",
       "std               NaN                   NaN   15.966837      NaN    4.400128   \n",
       "min               NaN                   NaN    0.000000      NaN   19.000000   \n",
       "25%               NaN                   NaN    5.000000      NaN   24.000000   \n",
       "50%               NaN                   NaN   13.000000      NaN   26.000000   \n",
       "75%               NaN                   NaN   25.000000      NaN   30.000000   \n",
       "max               NaN                   NaN   99.000000      NaN   40.000000   \n",
       "\n",
       "        Height      Weight   College        Salary  \n",
       "count      458  458.000000       374  4.470000e+02  \n",
       "unique      18         NaN       118           NaN  \n",
       "top     06-Sep         NaN  Kentucky           NaN  \n",
       "freq        59         NaN        22           NaN  \n",
       "mean       NaN  221.543668       NaN  4.833970e+06  \n",
       "std        NaN   26.343200       NaN  5.226620e+06  \n",
       "min        NaN  161.000000       NaN  3.088800e+04  \n",
       "25%        NaN  200.000000       NaN  1.025210e+06  \n",
       "50%        NaN  220.000000       NaN  2.836186e+06  \n",
       "75%        NaN  240.000000       NaN  6.500000e+06  \n",
       "max        NaN  307.000000       NaN  2.500000e+07  "
      ]
     },
     "execution_count": 80,
     "metadata": {},
     "output_type": "execute_result"
    }
   ],
   "source": [
    "df.describe(include='all')"
   ]
  },
  {
   "cell_type": "code",
   "execution_count": 81,
   "id": "5a045211-bd66-4cf3-a4bf-2f9454941eea",
   "metadata": {},
   "outputs": [
    {
     "data": {
      "text/plain": [
       "Name         0\n",
       "Team         0\n",
       "Number       0\n",
       "Position     0\n",
       "Age          0\n",
       "Height       0\n",
       "Weight       0\n",
       "College     84\n",
       "Salary      11\n",
       "dtype: int64"
      ]
     },
     "execution_count": 81,
     "metadata": {},
     "output_type": "execute_result"
    }
   ],
   "source": [
    "df.isnull().sum()"
   ]
  },
  {
   "cell_type": "code",
   "execution_count": 82,
   "id": "842a91b2-e1a5-4f18-b692-e02ef08ca32f",
   "metadata": {},
   "outputs": [
    {
     "data": {
      "text/plain": [
       "0"
      ]
     },
     "execution_count": 82,
     "metadata": {},
     "output_type": "execute_result"
    }
   ],
   "source": [
    "df.duplicated().sum()"
   ]
  },
  {
   "cell_type": "code",
   "execution_count": 83,
   "id": "f22b3542-bef9-440d-b5cf-f46dbbe45efd",
   "metadata": {},
   "outputs": [
    {
     "data": {
      "text/plain": [
       "Index(['Name', 'Team', 'Number', 'Position', 'Age', 'Height', 'Weight',\n",
       "       'College', 'Salary'],\n",
       "      dtype='object')"
      ]
     },
     "execution_count": 83,
     "metadata": {},
     "output_type": "execute_result"
    }
   ],
   "source": [
    "df.columns"
   ]
  },
  {
   "cell_type": "markdown",
   "id": "e82fcaeb-25e4-4d68-81b8-72048b2b3365",
   "metadata": {},
   "source": [
    "#### Height coloumn"
   ]
  },
  {
   "cell_type": "code",
   "execution_count": 84,
   "id": "71519578-1ec2-4ce3-a7a2-2406419cdf3c",
   "metadata": {},
   "outputs": [
    {
     "data": {
      "text/html": [
       "<div>\n",
       "<style scoped>\n",
       "    .dataframe tbody tr th:only-of-type {\n",
       "        vertical-align: middle;\n",
       "    }\n",
       "\n",
       "    .dataframe tbody tr th {\n",
       "        vertical-align: top;\n",
       "    }\n",
       "\n",
       "    .dataframe thead th {\n",
       "        text-align: right;\n",
       "    }\n",
       "</style>\n",
       "<table border=\"1\" class=\"dataframe\">\n",
       "  <thead>\n",
       "    <tr style=\"text-align: right;\">\n",
       "      <th></th>\n",
       "      <th>Name</th>\n",
       "      <th>Team</th>\n",
       "      <th>Number</th>\n",
       "      <th>Position</th>\n",
       "      <th>Age</th>\n",
       "      <th>Height</th>\n",
       "      <th>Weight</th>\n",
       "      <th>College</th>\n",
       "      <th>Salary</th>\n",
       "    </tr>\n",
       "  </thead>\n",
       "  <tbody>\n",
       "    <tr>\n",
       "      <th>0</th>\n",
       "      <td>Avery Bradley</td>\n",
       "      <td>Boston Celtics</td>\n",
       "      <td>0</td>\n",
       "      <td>PG</td>\n",
       "      <td>25</td>\n",
       "      <td>171</td>\n",
       "      <td>180</td>\n",
       "      <td>Texas</td>\n",
       "      <td>7730337.0</td>\n",
       "    </tr>\n",
       "    <tr>\n",
       "      <th>1</th>\n",
       "      <td>Jae Crowder</td>\n",
       "      <td>Boston Celtics</td>\n",
       "      <td>99</td>\n",
       "      <td>SF</td>\n",
       "      <td>25</td>\n",
       "      <td>154</td>\n",
       "      <td>235</td>\n",
       "      <td>Marquette</td>\n",
       "      <td>6796117.0</td>\n",
       "    </tr>\n",
       "    <tr>\n",
       "      <th>3</th>\n",
       "      <td>R.J. Hunter</td>\n",
       "      <td>Boston Celtics</td>\n",
       "      <td>28</td>\n",
       "      <td>SG</td>\n",
       "      <td>22</td>\n",
       "      <td>171</td>\n",
       "      <td>185</td>\n",
       "      <td>Georgia State</td>\n",
       "      <td>1148640.0</td>\n",
       "    </tr>\n",
       "    <tr>\n",
       "      <th>6</th>\n",
       "      <td>Jordan Mickey</td>\n",
       "      <td>Boston Celtics</td>\n",
       "      <td>55</td>\n",
       "      <td>PF</td>\n",
       "      <td>21</td>\n",
       "      <td>161</td>\n",
       "      <td>235</td>\n",
       "      <td>LSU</td>\n",
       "      <td>1170960.0</td>\n",
       "    </tr>\n",
       "    <tr>\n",
       "      <th>7</th>\n",
       "      <td>Kelly Olynyk</td>\n",
       "      <td>Boston Celtics</td>\n",
       "      <td>41</td>\n",
       "      <td>C</td>\n",
       "      <td>25</td>\n",
       "      <td>169</td>\n",
       "      <td>238</td>\n",
       "      <td>Gonzaga</td>\n",
       "      <td>2165160.0</td>\n",
       "    </tr>\n",
       "  </tbody>\n",
       "</table>\n",
       "</div>"
      ],
      "text/plain": [
       "            Name            Team  Number Position  Age  Height  Weight  \\\n",
       "0  Avery Bradley  Boston Celtics       0       PG   25     171     180   \n",
       "1    Jae Crowder  Boston Celtics      99       SF   25     154     235   \n",
       "3    R.J. Hunter  Boston Celtics      28       SG   22     171     185   \n",
       "6  Jordan Mickey  Boston Celtics      55       PF   21     161     235   \n",
       "7   Kelly Olynyk  Boston Celtics      41        C   25     169     238   \n",
       "\n",
       "         College     Salary  \n",
       "0          Texas  7730337.0  \n",
       "1      Marquette  6796117.0  \n",
       "3  Georgia State  1148640.0  \n",
       "6            LSU  1170960.0  \n",
       "7        Gonzaga  2165160.0  "
      ]
     },
     "execution_count": 84,
     "metadata": {},
     "output_type": "execute_result"
    }
   ],
   "source": [
    "df=df.dropna()\n",
    "df[\"Height\"]=np.random.randint(150,180,size=len(df))\n",
    "df.head()\n"
   ]
  },
  {
   "cell_type": "code",
   "execution_count": 85,
   "id": "8c0226e9-d266-4f66-a14c-e777b514a7c9",
   "metadata": {},
   "outputs": [
    {
     "name": "stdout",
     "output_type": "stream",
     "text": [
      "<class 'pandas.core.frame.DataFrame'>\n",
      "Index: 365 entries, 0 to 457\n",
      "Data columns (total 9 columns):\n",
      " #   Column    Non-Null Count  Dtype  \n",
      "---  ------    --------------  -----  \n",
      " 0   Name      365 non-null    object \n",
      " 1   Team      365 non-null    object \n",
      " 2   Number    365 non-null    int64  \n",
      " 3   Position  365 non-null    object \n",
      " 4   Age       365 non-null    int64  \n",
      " 5   Height    365 non-null    int32  \n",
      " 6   Weight    365 non-null    int64  \n",
      " 7   College   365 non-null    object \n",
      " 8   Salary    365 non-null    float64\n",
      "dtypes: float64(1), int32(1), int64(3), object(4)\n",
      "memory usage: 27.1+ KB\n"
     ]
    }
   ],
   "source": [
    "df.info()"
   ]
  },
  {
   "cell_type": "markdown",
   "id": "38c1e31f-6aae-4218-82f2-c905bdb58a0d",
   "metadata": {},
   "source": [
    "#### 1.How many are there in each Team and the percentage splitting with respect to the total employees."
   ]
  },
  {
   "cell_type": "code",
   "execution_count": 86,
   "id": "7aff67cc-00f3-4283-be56-679befc084dc",
   "metadata": {},
   "outputs": [
    {
     "name": "stdout",
     "output_type": "stream",
     "text": [
      "Team\n",
      "New Orleans Pelicans      16\n",
      "Portland Trail Blazers    15\n",
      "Detroit Pistons           15\n",
      "Milwaukee Bucks           14\n",
      "Philadelphia 76ers        14\n",
      "Oklahoma City Thunder     14\n",
      "Los Angeles Clippers      14\n",
      "Washington Wizards        13\n",
      "Charlotte Hornets         13\n",
      "Phoenix Suns              13\n",
      "Sacramento Kings          13\n",
      "Memphis Grizzlies         13\n",
      "Brooklyn Nets             13\n",
      "Boston Celtics            12\n",
      "Dallas Mavericks          12\n",
      "Indiana Pacers            12\n",
      "Chicago Bulls             12\n",
      "Los Angeles Lakers        12\n",
      "Golden State Warriors     12\n",
      "Houston Rockets           11\n",
      "Cleveland Cavaliers       11\n",
      "San Antonio Spurs         11\n",
      "Atlanta Hawks             11\n",
      "New York Knicks           11\n",
      "Utah Jazz                 11\n",
      "Miami Heat                10\n",
      "Orlando Magic             10\n",
      "Toronto Raptors           10\n",
      "Denver Nuggets             9\n",
      "Minnesota Timberwolves     8\n",
      "Name: count, dtype: int64\n"
     ]
    }
   ],
   "source": [
    "team_count=df[\"Team\"].value_counts()\n",
    "print(team_count)"
   ]
  },
  {
   "cell_type": "code",
   "execution_count": 87,
   "id": "e2cbddb2-cca2-4315-ac37-238787e83a59",
   "metadata": {},
   "outputs": [
    {
     "name": "stdout",
     "output_type": "stream",
     "text": [
      "Team\n",
      "New Orleans Pelicans      4.383562\n",
      "Portland Trail Blazers    4.109589\n",
      "Detroit Pistons           4.109589\n",
      "Milwaukee Bucks           3.835616\n",
      "Philadelphia 76ers        3.835616\n",
      "Oklahoma City Thunder     3.835616\n",
      "Los Angeles Clippers      3.835616\n",
      "Washington Wizards        3.561644\n",
      "Charlotte Hornets         3.561644\n",
      "Phoenix Suns              3.561644\n",
      "Sacramento Kings          3.561644\n",
      "Memphis Grizzlies         3.561644\n",
      "Brooklyn Nets             3.561644\n",
      "Boston Celtics            3.287671\n",
      "Dallas Mavericks          3.287671\n",
      "Indiana Pacers            3.287671\n",
      "Chicago Bulls             3.287671\n",
      "Los Angeles Lakers        3.287671\n",
      "Golden State Warriors     3.287671\n",
      "Houston Rockets           3.013699\n",
      "Cleveland Cavaliers       3.013699\n",
      "San Antonio Spurs         3.013699\n",
      "Atlanta Hawks             3.013699\n",
      "New York Knicks           3.013699\n",
      "Utah Jazz                 3.013699\n",
      "Miami Heat                2.739726\n",
      "Orlando Magic             2.739726\n",
      "Toronto Raptors           2.739726\n",
      "Denver Nuggets            2.465753\n",
      "Minnesota Timberwolves    2.191781\n",
      "Name: count, dtype: float64\n"
     ]
    }
   ],
   "source": [
    "team_percent=team_count/len(df)*100\n",
    "print(team_percent)"
   ]
  },
  {
   "cell_type": "markdown",
   "id": "3c02c09d-34c4-463e-8750-7862d80fc6d6",
   "metadata": {},
   "source": [
    "#### 2.Segregate the employees w.r.t different positions."
   ]
  },
  {
   "cell_type": "code",
   "execution_count": 88,
   "id": "e7ce22c6-5829-490d-a836-58fde2ee02c6",
   "metadata": {},
   "outputs": [
    {
     "name": "stdout",
     "output_type": "stream",
     "text": [
      "Position:('C',)\n",
      "                    Name                    Team\n",
      "7           Kelly Olynyk          Boston Celtics\n",
      "10       Jared Sullinger          Boston Celtics\n",
      "14          Tyler Zeller          Boston Celtics\n",
      "23           Brook Lopez           Brooklyn Nets\n",
      "27            Henry Sims           Brooklyn Nets\n",
      "38           Robin Lopez         New York Knicks\n",
      "49           Joel Embiid      Philadelphia 76ers\n",
      "56         Jahlil Okafor      Philadelphia 76ers\n",
      "78          Andrew Bogut   Golden State Warriors\n",
      "81          Festus Ezeli   Golden State Warriors\n",
      "88     Marreese Speights   Golden State Warriors\n",
      "91          Cole Aldrich    Los Angeles Clippers\n",
      "98        DeAndre Jordan    Los Angeles Clippers\n",
      "107          Tarik Black      Los Angeles Lakers\n",
      "111          Roy Hibbert      Los Angeles Lakers\n",
      "117         Robert Sacre      Los Angeles Lakers\n",
      "128             Alex Len            Phoenix Suns\n",
      "135        Alan Williams            Phoenix Suns\n",
      "141  Willie Cauley-Stein        Sacramento Kings\n",
      "143     DeMarcus Cousins        Sacramento Kings\n",
      "147         Kosta Koufos        Sacramento Kings\n",
      "162          Joakim Noah           Chicago Bulls\n",
      "173           Sasha Kaun     Cleveland Cavaliers\n",
      "179     Tristan Thompson     Cleveland Cavaliers\n",
      "181         Joel Anthony         Detroit Pistons\n",
      "182          Aron Baynes         Detroit Pistons\n",
      "188       Andre Drummond         Detroit Pistons\n",
      "201          Jordan Hill          Indiana Pacers\n",
      "220          Greg Monroe         Milwaukee Bucks\n",
      "224        Miles Plumlee         Milwaukee Bucks\n",
      "234         JaVale McGee        Dallas Mavericks\n",
      "296          Matt Bonner       San Antonio Spurs\n",
      "298           Tim Duncan       San Antonio Spurs\n",
      "312           Al Horford           Atlanta Hawks\n",
      "331   Frank Kaminsky III       Charlotte Hornets\n",
      "338          Cody Zeller       Charlotte Hornets\n",
      "351     Hassan Whiteside              Miami Heat\n",
      "354       Dewayne Dedmon           Orlando Magic\n",
      "366       Nikola Vucevic           Orlando Magic\n",
      "374           JJ Hickson      Washington Wizards\n",
      "399         Gorgui Dieng  Minnesota Timberwolves\n",
      "410   Karl-Anthony Towns  Minnesota Timberwolves\n",
      "412         Steven Adams   Oklahoma City Thunder\n",
      "418          Enes Kanter   Oklahoma City Thunder\n",
      "420        Nazr Mohammed   Oklahoma City Thunder\n",
      "431             Ed Davis  Portland Trail Blazers\n",
      "434          Chris Kaman  Portland Trail Blazers\n",
      "439        Mason Plumlee  Portland Trail Blazers\n",
      "456          Jeff Withey               Utah Jazz\n",
      "457             Priyanka               Utah Jazz\n",
      "Position:('PF',)\n",
      "                 Name                    Team\n",
      "6       Jordan Mickey          Boston Celtics\n",
      "24   Chris McCullough           Brooklyn Nets\n",
      "25        Willie Reed           Brooklyn Nets\n",
      "26    Thomas Robinson           Brooklyn Nets\n",
      "29     Thaddeus Young           Brooklyn Nets\n",
      "..                ...                     ...\n",
      "435    Meyers Leonard  Portland Trail Blazers\n",
      "441       Noah Vonleh  Portland Trail Blazers\n",
      "442     Trevor Booker               Utah Jazz\n",
      "446    Derrick Favors               Utah Jazz\n",
      "452        Trey Lyles               Utah Jazz\n",
      "\n",
      "[81 rows x 2 columns]\n",
      "Position:('PG',)\n",
      "                  Name                    Team\n",
      "0        Avery Bradley          Boston Celtics\n",
      "8         Terry Rozier          Boston Celtics\n",
      "9         Marcus Smart          Boston Celtics\n",
      "11       Isaiah Thomas          Boston Celtics\n",
      "19        Jarrett Jack           Brooklyn Nets\n",
      "..                 ...                     ...\n",
      "426  Russell Westbrook   Oklahoma City Thunder\n",
      "436     Damian Lillard  Portland Trail Blazers\n",
      "440      Brian Roberts  Portland Trail Blazers\n",
      "443         Trey Burke               Utah Jazz\n",
      "453       Shelvin Mack               Utah Jazz\n",
      "\n",
      "[76 rows x 2 columns]\n",
      "Position:('SF',)\n",
      "                 Name                    Team\n",
      "1         Jae Crowder          Boston Celtics\n",
      "33    Carmelo Anthony         New York Knicks\n",
      "35   Cleanthony Early         New York Knicks\n",
      "42       Lance Thomas         New York Knicks\n",
      "48   Robert Covington      Philadelphia 76ers\n",
      "..                ...                     ...\n",
      "424      Kyle Singler   Oklahoma City Thunder\n",
      "428   Al-Farouq Aminu  Portland Trail Blazers\n",
      "432  Maurice Harkless  Portland Trail Blazers\n",
      "448    Gordon Hayward               Utah Jazz\n",
      "451     Chris Johnson               Utah Jazz\n",
      "\n",
      "[71 rows x 2 columns]\n",
      "Position:('SG',)\n",
      "                 Name                    Team\n",
      "3         R.J. Hunter          Boston Celtics\n",
      "12        Evan Turner          Boston Celtics\n",
      "13        James Young          Boston Celtics\n",
      "16       Markel Brown           Brooklyn Nets\n",
      "17    Wayne Ellington           Brooklyn Nets\n",
      "..                ...                     ...\n",
      "433  Gerald Henderson  Portland Trail Blazers\n",
      "437     C.J. McCollum  Portland Trail Blazers\n",
      "438      Luis Montero  Portland Trail Blazers\n",
      "444        Alec Burks               Utah Jazz\n",
      "449       Rodney Hood               Utah Jazz\n",
      "\n",
      "[87 rows x 2 columns]\n"
     ]
    }
   ],
   "source": [
    "position_employees=df.groupby(['Position'])\n",
    "for position,position_d in position_employees:\n",
    "    print(f\"Position:{position}\")\n",
    "    print(position_d[['Name','Team',]])\n"
   ]
  },
  {
   "cell_type": "markdown",
   "id": "69dddee6-b740-42df-a50f-45ea8a8cb26b",
   "metadata": {},
   "source": [
    "#### "
   ]
  },
  {
   "cell_type": "markdown",
   "id": "8e6fafc2-f1c8-4e49-8269-1c471e06dae5",
   "metadata": {},
   "source": [
    "#### 3.Find from which age group most of the employees belong to.\n"
   ]
  },
  {
   "cell_type": "code",
   "execution_count": 89,
   "id": "96de8a0e-239e-437c-8ff3-08cd8abce646",
   "metadata": {},
   "outputs": [
    {
     "data": {
      "text/plain": [
       "Age group\n",
       "20-29    279\n",
       "30-39     82\n",
       "15-19      2\n",
       "40-49      2\n",
       "50-60      0\n",
       "Name: count, dtype: int64"
      ]
     },
     "execution_count": 89,
     "metadata": {},
     "output_type": "execute_result"
    }
   ],
   "source": [
    "bins=[15,20,30,40,50,60]\n",
    "labels=[\"15-19\",\"20-29\",\"30-39\",\"40-49\",\"50-60\"]\n",
    "df[\"Age group\"]=pd.cut(df[\"Age\"],bins=bins,labels=labels,right=False)\n",
    "age_counts=df[\"Age group\"].value_counts()\n",
    "age_counts"
   ]
  },
  {
   "cell_type": "markdown",
   "id": "27ecbcac-582b-4c87-8859-36031d908fec",
   "metadata": {},
   "source": [
    "#### 4.Find out under which team and position, spending in terms of salary is high."
   ]
  },
  {
   "cell_type": "code",
   "execution_count": 90,
   "id": "d3d7b3e5-7b35-46b4-9656-c7589b95eeb9",
   "metadata": {},
   "outputs": [
    {
     "name": "stdout",
     "output_type": "stream",
     "text": [
      "Team                Position\n",
      "Atlanta Hawks       C           12000000.0\n",
      "                    PF          23952268.0\n",
      "                    PG           8000000.0\n",
      "                    SF           2000000.0\n",
      "                    SG          10431032.0\n",
      "                                   ...    \n",
      "Washington Wizards  C             273038.0\n",
      "                    PF          11300000.0\n",
      "                    PG          18022415.0\n",
      "                    SF          11158800.0\n",
      "                    SG          11356992.0\n",
      "Name: Salary, Length: 142, dtype: float64\n",
      "('Miami Heat', 'PF')\n",
      "team and position in terms of highest salary:('Miami Heat', 'PF')\n"
     ]
    }
   ],
   "source": [
    "salary_table=df.groupby([\"Team\",\"Position\"])[\"Salary\"].sum()\n",
    "team_s=salary_table.idxmax()\n",
    "max_salary=salary_table.idxmax()\n",
    "print(salary_table)\n",
    "print(max_salary)\n",
    "print(f\"team and position in terms of highest salary:{team_s}\")\n",
    "\n"
   ]
  },
  {
   "cell_type": "markdown",
   "id": "3c444e81-bdde-447e-9c17-469bc969a412",
   "metadata": {},
   "source": [
    "#### 5.Find if there is any correlation between age and salary , represent it visually."
   ]
  },
  {
   "cell_type": "code",
   "execution_count": 91,
   "id": "e58ae572-f12b-485d-b784-c40dc663eeb3",
   "metadata": {},
   "outputs": [],
   "source": [
    "import seaborn as sns\n",
    "import matplotlib.pyplot as plt"
   ]
  },
  {
   "cell_type": "code",
   "execution_count": 92,
   "id": "b110502c-fb7b-48a0-bc97-b073902a58d6",
   "metadata": {},
   "outputs": [
    {
     "name": "stdout",
     "output_type": "stream",
     "text": [
      "Correalation between age and salary is 0.15999189342806175\n"
     ]
    },
    {
     "data": {
      "image/png": "[encoded data removed]",
      "text/plain": [
       "<Figure size 640x480 with 1 Axes>"
      ]
     },
     "metadata": {},
     "output_type": "display_data"
    }
   ],
   "source": [
    "corr=df[\"Age\"].corr(df[\"Salary\"])\n",
    "print(f\"Correalation between age and salary is {corr}\")\n",
    "plt.scatter(df[\"Age\"],df[\"Salary\"],color=\"Green\",marker='^')\n",
    "plt.title('Correlation between salary and Age')\n",
    "plt.xlabel(\"Age\")\n",
    "plt.ylabel('Salary')\n",
    "plt.show()\n"
   ]
  },
  {
   "cell_type": "code",
   "execution_count": null,
   "id": "fb78858a-e01f-473e-931e-daebf67eeb82",
   "metadata": {},
   "outputs": [],
   "source": []
  }
 ],
 "metadata": {
  "kernelspec": {
   "display_name": "Python 3 (ipykernel)",
   "language": "python",
   "name": "python3"
  },
  "language_info": {
   "codemirror_mode": {
    "name": "ipython",
    "version": 3
   },
   "file_extension": ".py",
   "mimetype": "text/x-python",
   "name": "python",
   "nbconvert_exporter": "python",
   "pygments_lexer": "ipython3",
   "version": "3.11.5"
  }
 },
 "nbformat": 4,
 "nbformat_minor": 5
}
